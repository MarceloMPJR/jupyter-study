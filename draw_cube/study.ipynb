{
 "cells": [
  {
   "attachments": {},
   "cell_type": "markdown",
   "metadata": {},
   "source": [
    "### Desenhando um Cubo no Matplot\n",
    "Primeiramente vamos criar uma variável chamada `cube` com as linhas da figura geométrica."
   ]
  },
  {
   "cell_type": "code",
   "execution_count": 1,
   "metadata": {},
   "outputs": [],
   "source": [
    "cube = {\n",
    "  'nodes': [\n",
    "    { 'x': 5.0, 'y': 5.0, 'z': 0.0 },\n",
    "    { 'x': 5.0, 'y': 6.0, 'z': 0.0 },\n",
    "    { 'x': 6.0, 'y': 6.0, 'z': 0.0 },\n",
    "    { 'x': 6.0, 'y': 5.0, 'z': 0.0 },\n",
    "\n",
    "    { 'x': 6.0, 'y': 5.0, 'z': 1.0 },\n",
    "    { 'x': 5.0, 'y': 5.0, 'z': 1.0 },\n",
    "    { 'x': 5.0, 'y': 6.0, 'z': 1.0 },\n",
    "    { 'x': 6.0, 'y': 6.0, 'z': 1.0 },\n",
    "  ]\n",
    "}"
   ]
  },
  {
   "attachments": {},
   "cell_type": "markdown",
   "metadata": {},
   "source": [
    "### Projetando a imagem 3D em um plano 2D\n",
    "Existem vários [métodos](https://www.inf.pucrs.br/~pinho/CG/Aulas/Vis3d/Vis3d.htm) para projetar uma imagem 3D em um plano 2D.\n",
    "\n",
    "Aqui iremos utilizar o método \"Projeção Paralela Ortográfica\", projetando no plano (X, Y).\n",
    "\n",
    "Para isso basta ignorar o eixo Z."
   ]
  },
  {
   "cell_type": "code",
   "execution_count": 2,
   "metadata": {},
   "outputs": [
    {
     "name": "stdout",
     "output_type": "stream",
     "text": [
      "{'nodes': [{'x': 5.0, 'y': 5.0}, {'x': 5.0, 'y': 6.0}, {'x': 6.0, 'y': 6.0}, {'x': 6.0, 'y': 5.0}, {'x': 6.0, 'y': 5.0}, {'x': 5.0, 'y': 5.0}, {'x': 5.0, 'y': 6.0}, {'x': 6.0, 'y': 6.0}]}\n"
     ]
    }
   ],
   "source": [
    "def to_2d(figure3d):\n",
    "  figure2d = {\n",
    "    'nodes': []\n",
    "  }\n",
    "\n",
    "  for node in figure3d['nodes']:\n",
    "    figure2d['nodes'].append({ 'x': node['x'], 'y': node['y'] })\n",
    "\n",
    "  return figure2d\n",
    "\n",
    "print(to_2d(cube))"
   ]
  },
  {
   "attachments": {},
   "cell_type": "markdown",
   "metadata": {},
   "source": [
    "### Desenhando na tela\n",
    "Para desenhar na tela, usaremos o pacote [matplotlib](https://matplotlib.org/) que irá desenhar nossa figura em um gráfico 2D.\n",
    "\n",
    "Devemos também \"conectar\" o \"nodes\" para que seja formada a figura corretamente."
   ]
  },
  {
   "cell_type": "code",
   "execution_count": 3,
   "metadata": {},
   "outputs": [],
   "source": [
    "import matplotlib.pyplot as plt\n",
    "\n",
    "def draw(cube3d, to_2d_func):\n",
    "  cube2d = to_2d_func(cube3d)\n",
    "\n",
    "  pltLine = plt.plot([node['x'] for node in cube2d['nodes']], [node['y'] for node in cube2d['nodes']])\n",
    "  plt.setp(pltLine, color='r', linewidth=2.0)\n",
    "\n",
    "  pltLine = plt.plot([cube2d['nodes'][0]['x'], cube2d['nodes'][5]['x']], [cube2d['nodes'][0]['y'], cube2d['nodes'][5]['y']])\n",
    "  plt.setp(pltLine, color='r', linewidth=2.0)\n",
    "\n",
    "  pltLine = plt.plot([cube2d['nodes'][1]['x'], cube2d['nodes'][6]['x']], [cube2d['nodes'][1]['y'], cube2d['nodes'][6]['y']])\n",
    "  plt.setp(pltLine, color='r', linewidth=2.0)\n",
    "\n",
    "  pltLine = plt.plot([cube2d['nodes'][2]['x'], cube2d['nodes'][7]['x']], [cube2d['nodes'][2]['y'], cube2d['nodes'][7]['y']])\n",
    "  plt.setp(pltLine, color='r', linewidth=2.0)\n",
    "\n",
    "  pltLine = plt.plot([cube2d['nodes'][3]['x'], cube2d['nodes'][4]['x']], [cube2d['nodes'][3]['y'], cube2d['nodes'][4]['y']])\n",
    "  plt.setp(pltLine, color='r', linewidth=2.0)\n",
    "\n",
    "  pltLine = plt.plot([cube2d['nodes'][0]['x'], cube2d['nodes'][3]['x']], [cube2d['nodes'][0]['y'], cube2d['nodes'][3]['y']])\n",
    "  plt.setp(pltLine, color='r', linewidth=2.0)\n",
    "\n",
    "  pltLine = plt.plot([cube2d['nodes'][4]['x'], cube2d['nodes'][7]['x']], [cube2d['nodes'][4]['y'], cube2d['nodes'][7]['y']])\n",
    "  plt.setp(pltLine, color='r', linewidth=2.0)\n",
    "\n",
    "\n",
    "  plt.show()\n"
   ]
  },
  {
   "attachments": {},
   "cell_type": "markdown",
   "metadata": {},
   "source": [
    "### Rotacionando\n",
    "Podemos [rotacionar](https://en.wikipedia.org/wiki/Rotation_matrix) sobre qualquer eixo.\n",
    "\n",
    "Para esse estudo vamos rotacionar sobre o eixo X, Y e Z:\n",
    "\n",
    "![rotation](images/rotation.svg)"
   ]
  },
  {
   "cell_type": "code",
   "execution_count": 4,
   "metadata": {},
   "outputs": [],
   "source": [
    "import math\n",
    "import numpy as np\n",
    "\n",
    "def rotation(figure3d, matrix_rot):\n",
    "  r_figure_3d = { 'nodes': [] }\n",
    "  \n",
    "  for node in figure3d['nodes']:\n",
    "    matrix_node = np.array([[node['x']], [node['y']], [node['z']]])\n",
    "    matrix_node_rot = np.dot(matrix_rot, matrix_node)\n",
    "\n",
    "    r_figure_3d['nodes'].append({ 'x': matrix_node_rot[0][0], 'y': matrix_node_rot[1][0], 'z': matrix_node_rot[2][0] })\n",
    "\n",
    "  return r_figure_3d"
   ]
  },
  {
   "attachments": {},
   "cell_type": "markdown",
   "metadata": {},
   "source": [
    "### Rotacionando no Eixo X"
   ]
  },
  {
   "cell_type": "code",
   "execution_count": 5,
   "metadata": {},
   "outputs": [],
   "source": [
    "def rotation_figure3d_x(figure3d, theta):\n",
    "  cos_theta = math.cos(theta)\n",
    "  sin_theta = math.sin(theta)\n",
    "\n",
    "  matrix_rot = np.array(\n",
    "    [\n",
    "      [1, 0,         0],\n",
    "      [0, cos_theta, -sin_theta],\n",
    "      [0, sin_theta, cos_theta]\n",
    "    ]\n",
    "  )\n",
    "\n",
    "  return rotation(figure3d, matrix_rot)"
   ]
  },
  {
   "attachments": {},
   "cell_type": "markdown",
   "metadata": {},
   "source": [
    "### Rotacionando no Eixo Y"
   ]
  },
  {
   "cell_type": "code",
   "execution_count": 6,
   "metadata": {},
   "outputs": [],
   "source": [
    "def rotation_figure3d_y(figure3d, theta):\n",
    "  cos_theta = math.cos(theta)\n",
    "  sin_theta = math.sin(theta)\n",
    "\n",
    "  matrix_rot = np.array(\n",
    "    [\n",
    "      [cos_theta,  1, sin_theta],\n",
    "      [0,          0, 1],\n",
    "      [-sin_theta, 0, cos_theta],\n",
    "    ]\n",
    "  )\n",
    "\n",
    "  return rotation(figure3d, matrix_rot)"
   ]
  },
  {
   "attachments": {},
   "cell_type": "markdown",
   "metadata": {},
   "source": [
    "### Rotacionando no Eixo Z"
   ]
  },
  {
   "cell_type": "code",
   "execution_count": 7,
   "metadata": {},
   "outputs": [],
   "source": [
    "def rotation_figure3d_z(figure3d, theta):\n",
    "  cos_theta = math.cos(theta)\n",
    "  sin_theta = math.sin(theta)\n",
    "\n",
    "  matrix_rot = np.array(\n",
    "    [\n",
    "      [cos_theta, -sin_theta, 0],\n",
    "      [sin_theta, cos_theta,  0],\n",
    "      [0,         0,          1],\n",
    "    ]\n",
    "  )\n",
    "\n",
    "  return rotation(figure3d, matrix_rot)"
   ]
  },
  {
   "attachments": {},
   "cell_type": "markdown",
   "metadata": {},
   "source": [
    "### Resultado"
   ]
  },
  {
   "cell_type": "code",
   "execution_count": 8,
   "metadata": {},
   "outputs": [
    {
     "data": {
      "image/png": "[encoded data removed]",
      "text/plain": [
       "<Figure size 640x480 with 1 Axes>"
      ]
     },
     "metadata": {},
     "output_type": "display_data"
    }
   ],
   "source": [
    "figure_x = rotation_figure3d_x(cube, 0.3)\n",
    "figure_x_y = rotation_figure3d_y(figure_x, 0.3)\n",
    "figure_x_y_z = rotation_figure3d_z(figure_x_y, 0.3)\n",
    "\n",
    "draw(figure_x_y_z, to_2d)"
   ]
  }
 ],
 "metadata": {
  "kernelspec": {
   "display_name": "Python 3 (ipykernel)",
   "language": "python",
   "name": "python3"
  },
  "language_info": {
   "codemirror_mode": {
    "name": "ipython",
    "version": 3
   },
   "file_extension": ".py",
   "mimetype": "text/x-python",
   "name": "python",
   "nbconvert_exporter": "python",
   "pygments_lexer": "ipython3",
   "version": "3.10.9"
  },
  "orig_nbformat": 4
 },
 "nbformat": 4,
 "nbformat_minor": 2
}
